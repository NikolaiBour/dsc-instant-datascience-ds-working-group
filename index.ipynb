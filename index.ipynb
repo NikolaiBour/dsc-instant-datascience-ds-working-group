{
 "cells": [
  {
   "cell_type": "markdown",
   "metadata": {},
   "source": [
    "# Instant Data Science\n",
    "\n",
    "When starting any course, you likely look at the syllabus to see what's covered and ask yourself if you can do it. In this lesson, we'll hope to give you a sense of how, with just a little bit of knowledge, you can make some real progress in using programs to answer questions with data.  \n",
    "\n",
    "To do so, we will be introducing the following topics: \n",
    "* Data types: working with text and data \n",
    "* Variables: storing data\n",
    "* Lists: working with data in an ordered collection\n",
    "* Dictionaries: representing data as a collection of attributes   \n",
    "* Loops and iteration: repeating a sequence of instructions  \n",
    "* Data visualization: using plots to display data\n",
    "* Functions: defining and running specific procedures in code \n",
    "\n",
    "This lesson will offer a brief glimpse into each of these topics. In the rest of the course, we will provide lessons and labs on each of these topics to break down the material step by step. Let's get started!\n",
    "\n",
    "### Song Analysis\n",
    "\n",
    "What makes a hit record?  Does repetitiveness help?  Is our music getting more repetitive over time?  Questions like these were asked by the great computer scientist Donald Knuth in 1977, and then they were asked again and answered, by Colin Morris in [this article](https://pudding.cool/2017/05/song-repetition/).\n",
    "\n",
    "Here is a chart that Colin Morris produced showing some of the most repetitive popular artists.  How was something like this made and calculated?\n",
    "\n",
    "![](https://learn-verified.s3.amazonaws.com/data-science-assets/song-chart.png)\n",
    "\n",
    "After finishing the first section of our full-time data science curriculum, you will be able to produce the kind of data analysis you see in Colin Morris' article. Awesome, right?\n",
    "\n",
    "### Analyzing one song\n",
    "\n",
    "Let's take the song *Barbara Ann*, the most repetitive song of the Beach Boys which was remastered by the cast of *Saved by the Bell* in 1990.  \n",
    "\n",
    "![](https://learn-verified.s3.amazonaws.com/data-science-assets/saved-by-bell.gif)\n",
    "\n",
    "How did the cast learn all of the words so easily?  Repetition. Here are some of the lyrics.\n",
    "\n",
    "    Ah, ba ba ba ba Barbara Ann\n",
    "    Ba ba ba ba Barbara Ann\n",
    "\n",
    "    Oh Barbara Ann take my hand\n",
    "    Barbara Ann\n",
    "    You got me rockin' and a-rollin'\n",
    "    Rockin' and a-reelin'\n",
    "    Barbara Ann ba ba\n",
    "    Ba Barbara Ann\n",
    "\n",
    "    ...more lyrics...\n",
    "\n",
    "    Ba ba ba ba Barbara Ann\n",
    "    Ba ba ba ba Barbara Ann\n",
    "\n",
    "It keeps going, but you get the point.  Now let's say that we wanted to count up how many times each word in the above selection appears.  Without a computer, we could do the following: \n",
    "\n",
    "* Place each of the words on a separate index card\n",
    "* Designate a spot for each unique word in our index cards\n",
    "* Then, flip through the index cards one by one\n",
    "* While flipping through each index card, find its designated pile and increase the size by one\n",
    "\n",
    "\n",
    "Let's call these steps above **our plan**.  At the end of this lesson and after completing each step of our above plan, we will have a chart, like the one below, giving us a visualization of the most repetitious words in the Beach Boys' song, *Barbara Ann*. \n",
    "\n",
    "![](images/count_plot.png)\n",
    "\n",
    "Great! Now let's translate our plan into code and make our chart!"
   ]
  },
  {
   "cell_type": "markdown",
   "metadata": {},
   "source": [
    "### Strings and Variables"
   ]
  },
  {
   "cell_type": "markdown",
   "metadata": {},
   "source": [
    "To solve this problem with code, we do something similar.  We start with our words in a **string**, which is a data structure that represents text.  This is how it looks:"
   ]
  },
  {
   "cell_type": "code",
   "execution_count": 1,
   "metadata": {},
   "outputs": [
    {
     "data": {
      "text/plain": [
       "\"Ah, Ba Ba Ba Ba Barbara Ann Ba Ba Ba Ba Barbara Ann Oh Barbara Ann Take My Hand Barbara Ann You Got Me Rockin' And A-Rollin' Rockin' And A-Reelin' Barbara Ann Ba Ba Ba Barbara Ann ...More Lyrics... Ba Ba Ba Ba Barbara Ann Ba Ba Ba Ba Barbara Ann\""
      ]
     },
     "execution_count": 1,
     "metadata": {},
     "output_type": "execute_result"
    }
   ],
   "source": [
    "\"Ah, Ba Ba Ba Ba Barbara Ann Ba Ba Ba Ba Barbara Ann Oh Barbara Ann Take My Hand Barbara Ann You Got Me Rockin' And A-Rollin' Rockin' And A-Reelin' Barbara Ann Ba Ba Ba Barbara Ann ...More Lyrics... Ba Ba Ba Ba Barbara Ann Ba Ba Ba Ba Barbara Ann\""
   ]
  },
  {
   "cell_type": "markdown",
   "metadata": {},
   "source": [
    "> **Note:** What you see above in the first gray box is Python code.  The content in this box is the code you would write.  What comes below this first box is the **output** of running the code.  So the output of creating a string, is just that same string - not very interesting. "
   ]
  },
  {
   "cell_type": "markdown",
   "metadata": {},
   "source": [
    "To create a **string** in Python, notice that we place quotes at the start and end of text.  If we don't do this, Python will give us an error."
   ]
  },
  {
   "cell_type": "markdown",
   "metadata": {},
   "source": [
    "So, to avoid errors, we need quotes around our text to make a string, but to hold on to this string and reference it later, we assign it to a **variable**. We call it `lyrics`.  "
   ]
  },
  {
   "cell_type": "code",
   "execution_count": 2,
   "metadata": {},
   "outputs": [],
   "source": [
    "lyrics = \"Ah, Ba Ba Ba Ba Barbara Ann Ba Ba Ba Ba Barbara Ann Oh Barbara Ann Take My Hand Barbara Ann You Got Me Rockin' And A-Rollin' Rockin' And A-Reelin' Barbara Ann Ba Ba Ba Barbara Ann ...More Lyrics... Ba Ba Ba Ba Barbara Ann Ba Ba Ba Ba Barbara Ann\""
   ]
  },
  {
   "cell_type": "markdown",
   "metadata": {},
   "source": [
    "Now whenever we type the word `lyrics` into Python we reference our string."
   ]
  },
  {
   "cell_type": "markdown",
   "metadata": {},
   "source": [
    "```python \n",
    "lyrics\n",
    "```"
   ]
  },
  {
   "cell_type": "markdown",
   "metadata": {},
   "source": [
    "```python\n",
    "\"Ah, Ba Ba Ba Ba Barbara Ann Ba Ba Ba Ba Barbara Ann Oh Barbara Ann Take My Hand Barbara Ann You Got Me Rockin' And A-Rollin' Rockin' And A-Reelin' Barbara Ann Ba Ba Ba Barbara Ann ...More Lyrics... Ba Ba Ba Ba Barbara Ann Ba Ba Ba Ba Barbara Ann\"\n",
    "```"
   ]
  },
  {
   "cell_type": "markdown",
   "metadata": {},
   "source": [
    "Okay, great. We now have our lyrics assigned to our variable, `lyrics` and we can use that to reference the string later in our code.  If we remember **our plan**, the first step was to place each word on a separate index card, but strings are **not** good at separating our text into individual words.  For that, we need a new data structure called a **list**."
   ]
  },
  {
   "cell_type": "markdown",
   "metadata": {},
   "source": [
    "### Lists"
   ]
  },
  {
   "cell_type": "markdown",
   "metadata": {},
   "source": [
    "To separate our string into a list of individual words, we need to change this continuous string into a Python `list`.  Here is how we tell the computer to do this: split the string into a different entity every time you see a space.  Here are those directions in code."
   ]
  },
  {
   "cell_type": "markdown",
   "metadata": {},
   "source": [
    "> **Note:** we are going to be using methods like `split` and `len` throughout this lesson. Don't worry, we will explain what these methods do in later lessons. For now, focus on following the logic of what the inputs are doing.\n",
    "   "
   ]
  },
  {
   "cell_type": "code",
   "execution_count": 9,
   "metadata": {},
   "outputs": [],
   "source": [
    "list_of_lyrics = lyrics.split(' ')"
   ]
  },
  {
   "cell_type": "markdown",
   "metadata": {},
   "source": [
    "Ok, let's see what `list_of_lyrics` looks like."
   ]
  },
  {
   "cell_type": "markdown",
   "metadata": {},
   "source": [
    "```python \n",
    "list_of_lyrics\n",
    "```"
   ]
  },
  {
   "cell_type": "markdown",
   "metadata": {},
   "source": [
    "```python\n",
    "['Ah,', 'Ba', 'Ba', 'Ba', 'Ba', 'Barbara', 'Ann', 'Ba', 'Ba', 'Ba', 'Ba', 'Barbara', 'Ann', 'Oh', 'Barbara', 'Ann', 'Take', 'My', 'Hand', 'Barbara', 'Ann', 'You', 'Got', 'Me', \"Rockin'\", 'And', \"A-Rollin'\", \"Rockin'\", 'And', \"A-Reelin'\", 'Barbara', 'Ann', 'Ba', 'Ba', 'Ba', 'Barbara', 'Ann', '...More', 'Lyrics...', 'Ba', 'Ba', 'Ba', 'Ba', 'Barbara', 'Ann', 'Ba', 'Ba', 'Ba', 'Ba', 'Barbara', 'Ann']\n",
    "```"
   ]
  },
  {
   "cell_type": "markdown",
   "metadata": {},
   "source": [
    "Ok, so this is a `list`. It's an ordered collection, and as you can see we are now treating each word as an individual **entity**. Each individual entity of a list is called an element. How many elements are there in this `list`?"
   ]
  },
  {
   "cell_type": "code",
   "execution_count": 7,
   "metadata": {},
   "outputs": [
    {
     "data": {
      "text/plain": [
       "51"
      ]
     },
     "execution_count": 7,
     "metadata": {},
     "output_type": "execute_result"
    }
   ],
   "source": [
    "len(list_of_lyrics)"
   ]
  },
  {
   "cell_type": "markdown",
   "metadata": {},
   "source": [
    "Ok, but remember the second step of our plan was to allocate space for each unique word. Now that we have a list of all words, let's make a list of the unique words."
   ]
  },
  {
   "cell_type": "code",
   "execution_count": 8,
   "metadata": {},
   "outputs": [],
   "source": [
    "unique_words = set(list_of_lyrics)"
   ]
  },
  {
   "cell_type": "markdown",
   "metadata": {},
   "source": [
    "`unique_words` looks like this:"
   ]
  },
  {
   "cell_type": "markdown",
   "metadata": {},
   "source": [
    "```python\n",
    "{'...More', \"A-Reelin'\", \"A-Rollin'\", 'Ah,', 'And', 'Ann', 'Ba', 'Barbara', 'Got', 'Hand', \n",
    " 'Lyrics...', 'Me', 'My', 'Oh', \"Rockin'\", 'Take', 'You'}\n",
    "```"
   ]
  },
  {
   "cell_type": "markdown",
   "metadata": {},
   "source": [
    "Ok, you may have noticed that our list of unique words is significantly smaller than our total list of words.  How much smaller?"
   ]
  },
  {
   "cell_type": "code",
   "execution_count": 6,
   "metadata": {},
   "outputs": [
    {
     "data": {
      "text/plain": [
       "17"
      ]
     },
     "execution_count": 6,
     "metadata": {},
     "output_type": "execute_result"
    }
   ],
   "source": [
    "len(unique_words)"
   ]
  },
  {
   "cell_type": "markdown",
   "metadata": {},
   "source": [
    "A lot."
   ]
  },
  {
   "cell_type": "markdown",
   "metadata": {},
   "source": [
    "So, there's a lot of repetition in `Barbara Ann`.  It's time to keep track of each word and the number of occurrences of each word."
   ]
  },
  {
   "cell_type": "markdown",
   "metadata": {},
   "source": [
    "### Sets vs Lists"
   ]
  },
  {
   "cell_type": "markdown",
   "metadata": {},
   "source": [
    "Our ultimate goal is to present our list of repetitions almost as a table, with a (unique) word to the left and the number of occurrences to the right.  "
   ]
  },
  {
   "cell_type": "markdown",
   "metadata": {},
   "source": [
    "| unique_words        | count           |\n",
    "| ------------- |:-------------:|\n",
    "| Ann     | 2 |\n",
    "| Barbara     | 3 |\n",
    "| Ba     | 8 |"
   ]
  },
  {
   "cell_type": "markdown",
   "metadata": {},
   "source": [
    "You already have a collection with the unique words: "
   ]
  },
  {
   "cell_type": "code",
   "execution_count": 70,
   "metadata": {},
   "outputs": [
    {
     "data": {
      "text/plain": [
       "['Ah,',\n",
       " 'Hand',\n",
       " 'You',\n",
       " \"Rockin'\",\n",
       " 'Ba',\n",
       " 'Barbara',\n",
       " 'Take',\n",
       " 'Me',\n",
       " 'And',\n",
       " 'Got',\n",
       " \"A-Rollin'\",\n",
       " \"A-Reelin'\",\n",
       " '...More',\n",
       " 'Lyrics...',\n",
       " 'Ann',\n",
       " 'Oh',\n",
       " 'My']"
      ]
     },
     "execution_count": 70,
     "metadata": {},
     "output_type": "execute_result"
    }
   ],
   "source": [
    "unique_words"
   ]
  },
  {
   "cell_type": "markdown",
   "metadata": {},
   "source": [
    "One small technicality about this `unique_words`-collection is that it is currently in a _set_ (which is why this collection has the curly brackets `{}`. One of the properties of a _set_ is that the order of the elements in the set doesn't matter. What does that mean? Let's look at a simple example. `set_1` and `set_2` below are two sets, which contain the same elements (1, 2 and 3). "
   ]
  },
  {
   "cell_type": "code",
   "execution_count": 71,
   "metadata": {},
   "outputs": [],
   "source": [
    "set_1 = set({1,2,3})\n",
    "set_2 = set({2,1,3})"
   ]
  },
  {
   "cell_type": "markdown",
   "metadata": {},
   "source": [
    "Despite their different ordering, these two sets are identical! How can we tell? Let's compare them (comparing in Python can be done by using `==`."
   ]
  },
  {
   "cell_type": "code",
   "execution_count": 72,
   "metadata": {},
   "outputs": [
    {
     "data": {
      "text/plain": [
       "True"
      ]
     },
     "execution_count": 72,
     "metadata": {},
     "output_type": "execute_result"
    }
   ],
   "source": [
    "set_1 == set_2"
   ]
  },
  {
   "cell_type": "markdown",
   "metadata": {},
   "source": [
    "Python tells us that these sets are identical! Wow! What about lists? Let's have a look:"
   ]
  },
  {
   "cell_type": "code",
   "execution_count": 73,
   "metadata": {},
   "outputs": [
    {
     "data": {
      "text/plain": [
       "False"
      ]
     },
     "execution_count": 73,
     "metadata": {},
     "output_type": "execute_result"
    }
   ],
   "source": [
    "list_1 = list([1,2,3])\n",
    "list_2 = list([1,3,2])\n",
    "\n",
    "list_1 == list_2"
   ]
  },
  {
   "cell_type": "markdown",
   "metadata": {},
   "source": [
    "The order matters for lists! Why does this matter to us? One of the steps in **our plan** was:\n",
    "\n",
    "> - Designate a spot for each unique word in our index cards\n",
    "\n",
    "We need to make sure our order of unique words is fixed, because we will start matching a value to it (the value being equal to how often the word occurs in the song). So let's convert our `unique_words`-set to a list. We can do this by using one simple line of code:"
   ]
  },
  {
   "cell_type": "code",
   "execution_count": 74,
   "metadata": {},
   "outputs": [],
   "source": [
    "unique_words = list(unique_words)"
   ]
  },
  {
   "cell_type": "markdown",
   "metadata": {},
   "source": [
    "### Loops"
   ]
  },
  {
   "cell_type": "markdown",
   "metadata": {},
   "source": [
    "Next up, you'll want to create a collection holding the number of occurrences for each of these words (the `count`). How do we get there?"
   ]
  },
  {
   "cell_type": "markdown",
   "metadata": {},
   "source": [
    "Ok, now we have two nice data structures. A `list_of_lyrics` of all of our words, and `unique_words` with each word only occurring once. It seems like we're making good progress. Let's look again at our plan.\n",
    "\n",
    "* Place each of the words on a separate index card. \n",
    "    * **Complete** as `list_of_lyrics`\n",
    "* Designate a spot for each unique word in our index cards\n",
    "    * **Complete** as `unique_words`\n",
    "* Then, go through the index cards one by one\n",
    "* And for each index card, increase the size of its related pile by one\n",
    "\n",
    "So looking through the steps, all that's left are the last two steps.\n",
    "\n",
    "In Python, to go through elements of a list one by one, we use a `for` loop."
   ]
  },
  {
   "cell_type": "code",
   "execution_count": 75,
   "metadata": {},
   "outputs": [
    {
     "name": "stdout",
     "output_type": "stream",
     "text": [
      "11\n",
      "12\n",
      "13\n"
     ]
    }
   ],
   "source": [
    "for number in [1,2,3]:\n",
    "    print(number + 10)"
   ]
  },
  {
   "cell_type": "markdown",
   "metadata": {},
   "source": [
    "Ok, so here we want to go through the elements of our `list_of_lyrics` one by one. For each word in `unique_words`, we want to count how many times it occurs in `list_of_lyrics`. \n",
    "\n",
    "> **Deep breath** These next lines of code may look like magic.  The lessons that follow will explain them."
   ]
  },
  {
   "cell_type": "code",
   "execution_count": 76,
   "metadata": {},
   "outputs": [],
   "source": [
    "count = []\n",
    "for word in unique_words:\n",
    "    count.append(list_of_lyrics.count(word))"
   ]
  },
  {
   "cell_type": "markdown",
   "metadata": {},
   "source": [
    "In human language, this is what happened:\n",
    "\n",
    "> You used your `list_of_lyrics` and looked at each word in your `unique_words`-list and counted (method `.count()`, you'll learn more on that in future lessons) how often time this word occured in your `list_of_lyrics`! To store the result, you started off by creating an empty list (using `[]`) and use .append() to add new numbers in each iteration of your loop."
   ]
  },
  {
   "cell_type": "markdown",
   "metadata": {},
   "source": [
    "We said it would be slightly confusing.  Good thing there are more lessons to explain it.  Let's see if it worked."
   ]
  },
  {
   "cell_type": "code",
   "execution_count": 79,
   "metadata": {},
   "outputs": [
    {
     "data": {
      "text/plain": [
       "[1, 1, 1, 2, 19, 8, 1, 1, 2, 1, 1, 1, 1, 1, 8, 1, 1]"
      ]
     },
     "execution_count": 79,
     "metadata": {},
     "output_type": "execute_result"
    }
   ],
   "source": [
    "count"
   ]
  },
  {
   "cell_type": "markdown",
   "metadata": {},
   "source": [
    "Let's now look at `unique_words` again. "
   ]
  },
  {
   "cell_type": "code",
   "execution_count": 80,
   "metadata": {},
   "outputs": [
    {
     "data": {
      "text/plain": [
       "['Ah,',\n",
       " 'Hand',\n",
       " 'You',\n",
       " \"Rockin'\",\n",
       " 'Ba',\n",
       " 'Barbara',\n",
       " 'Take',\n",
       " 'Me',\n",
       " 'And',\n",
       " 'Got',\n",
       " \"A-Rollin'\",\n",
       " \"A-Reelin'\",\n",
       " '...More',\n",
       " 'Lyrics...',\n",
       " 'Ann',\n",
       " 'Oh',\n",
       " 'My']"
      ]
     },
     "execution_count": 80,
     "metadata": {},
     "output_type": "execute_result"
    }
   ],
   "source": [
    "unique_words"
   ]
  },
  {
   "cell_type": "markdown",
   "metadata": {},
   "source": [
    "Some observations:\n",
    "\n",
    "- The 4th word in your `unique_words` list (\"Rockin'\") occurs _twice_, so the 4th element of `unique_words` is 2! \n",
    "- \"Ba\" is the most common word, occurring 19 times. \n",
    "\n",
    "It looks like our for loop worked!"
   ]
  },
  {
   "cell_type": "markdown",
   "metadata": {},
   "source": [
    "### Visualizing the data"
   ]
  },
  {
   "cell_type": "markdown",
   "metadata": {},
   "source": [
    "We've got our answer in code.  The final step is to turn it into a chart.  We'll use a library -- which is a collection of code that allows you to perform many actions without having to write a ton of lines of code that does not come with Python -- called `matplotlib` to make our charts.\n",
    "\n",
    "If you do not have Matplotlib installed, you can install it using:"
   ]
  },
  {
   "cell_type": "code",
   "execution_count": null,
   "metadata": {},
   "outputs": [],
   "source": [
    "!pip install matplotlib=3.1.1"
   ]
  },
  {
   "cell_type": "markdown",
   "metadata": {},
   "source": [
    "In the two lines we tell Python to get ready to use this library.  And in the last line we tell Python to show the plot.\n",
    "\n",
    "The third line of code sets the size of the figure. If you don't set the figure size, your figure will be pretty small and hard to read. The fourth line is the meat of the code, mapping the `unique_words`-list to the respective `count`, using a bar plot. We then set the y-ticks, so our y-axis is readable and clearly states the respective count."
   ]
  },
  {
   "cell_type": "markdown",
   "metadata": {},
   "source": [
    "```python\n",
    "import matplotlib.pyplot as plt\n",
    "%matplotlib inline\n",
    "\n",
    "plt.figure(figsize=(18,8))\n",
    "plt.bar(unique_words, count, width = 0.8)\n",
    "plt.yticks(range(1,21))\n",
    "plt.show()\n",
    "```"
   ]
  },
  {
   "cell_type": "markdown",
   "metadata": {},
   "source": [
    "![](images/count_plot.png)"
   ]
  },
  {
   "cell_type": "markdown",
   "metadata": {},
   "source": [
    "We have now plotted our words! We can see that The Beach Boys say \"Ba\" 19 times, and remember that we only copied over some of the lyrics!  Repetitive indeed.\n",
    "\n",
    "### Summary\n",
    "\n",
    "Hopefully, in this section you can see that even with just a bit of knowledge we can really put code to use. It may have seemed like a lot of work, but the work was in the learning, not the code.  \n",
    "\n",
    "All of the code written so far was really just seven lines of code plus another six lines to plot our chart, giving us a grand total of a mere 13 lines of code! \n",
    "\n",
    "In the following sections, we will cover the topics we introduced in this lesson and more, so that we can begin use the tools above to explore information with code."
   ]
  }
 ],
 "metadata": {
  "kernelspec": {
   "display_name": "Python 3",
   "language": "python",
   "name": "python3"
  },
  "language_info": {
   "codemirror_mode": {
    "name": "ipython",
    "version": 3
   },
   "file_extension": ".py",
   "mimetype": "text/x-python",
   "name": "python",
   "nbconvert_exporter": "python",
   "pygments_lexer": "ipython3",
   "version": "3.6.6"
  }
 },
 "nbformat": 4,
 "nbformat_minor": 2
}
